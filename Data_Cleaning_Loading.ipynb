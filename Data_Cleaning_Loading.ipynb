{
  "cells": [
    {
      "cell_type": "markdown",
      "metadata": {
        "id": "view-in-github",
        "colab_type": "text"
      },
      "source": [
        "<a href=\"https://colab.research.google.com/github/shouvikcirca/corteva/blob/main/Data_Cleaning_Loading.ipynb\" target=\"_parent\"><img src=\"https://colab.research.google.com/assets/colab-badge.svg\" alt=\"Open In Colab\"/></a>"
      ]
    },
    {
      "cell_type": "code",
      "source": [
        "# !pip install sqlalchemy\n",
        "# ! pip install python-dotenv"
      ],
      "metadata": {
        "id": "-6m3n8k7Q1i1",
        "outputId": "8739a308-bfd5-4041-ec40-1be3280f9868",
        "colab": {
          "base_uri": "https://localhost:8080/"
        }
      },
      "execution_count": null,
      "outputs": [
        {
          "output_type": "stream",
          "name": "stdout",
          "text": [
            "Requirement already satisfied: sqlalchemy in /usr/local/lib/python3.10/dist-packages (2.0.32)\n",
            "Requirement already satisfied: typing-extensions>=4.6.0 in /usr/local/lib/python3.10/dist-packages (from sqlalchemy) (4.12.2)\n",
            "Requirement already satisfied: greenlet!=0.4.17 in /usr/local/lib/python3.10/dist-packages (from sqlalchemy) (3.0.3)\n",
            "Requirement already satisfied: python-dotenv in /usr/local/lib/python3.10/dist-packages (1.0.1)\n"
          ]
        }
      ]
    },
    {
      "cell_type": "code",
      "source": [
        "import pandas as pd\n",
        "import os\n",
        "from sqlalchemy import create_engine\n",
        "from dotenv import load_dotenv"
      ],
      "metadata": {
        "id": "AiF7dpemSFCM"
      },
      "execution_count": null,
      "outputs": []
    },
    {
      "cell_type": "code",
      "source": [
        "from google.colab import drive\n",
        "drive.mount('/content/drive', force_remount = True)"
      ],
      "metadata": {
        "id": "HLWF9a5AQas4",
        "outputId": "ea8409fd-b092-4d1f-f9a3-d6674eba6b8d",
        "colab": {
          "base_uri": "https://localhost:8080/"
        }
      },
      "execution_count": null,
      "outputs": [
        {
          "output_type": "stream",
          "name": "stdout",
          "text": [
            "Mounted at /content/drive\n"
          ]
        }
      ]
    },
    {
      "cell_type": "code",
      "source": [
        "! ls drive/MyDrive/Collabera"
      ],
      "metadata": {
        "id": "b95ZBu9YQaRa",
        "outputId": "192a84ca-afb6-4803-ed49-94325480fcf5",
        "colab": {
          "base_uri": "https://localhost:8080/"
        }
      },
      "execution_count": null,
      "outputs": [
        {
          "output_type": "stream",
          "name": "stdout",
          "text": [
            "answers  README.md  src  wx_data  yld_data\n"
          ]
        }
      ]
    },
    {
      "cell_type": "code",
      "source": [
        "# ! git clone https://github.com/corteva/code-challenge-template.git drive/MyDrive/Collabera"
      ],
      "metadata": {
        "id": "OWuVGuygQaT5",
        "outputId": "e83fd6b1-c5aa-446e-8287-ffde7561a96c",
        "colab": {
          "base_uri": "https://localhost:8080/"
        }
      },
      "execution_count": null,
      "outputs": [
        {
          "output_type": "stream",
          "name": "stdout",
          "text": [
            "Cloning into 'drive/MyDrive/Collabera'...\n",
            "remote: Enumerating objects: 176, done.\u001b[K\n",
            "remote: Counting objects: 100% (4/4), done.\u001b[K\n",
            "remote: Compressing objects: 100% (4/4), done.\u001b[K\n",
            "remote: Total 176 (delta 0), reused 0 (delta 0), pack-reused 172 (from 1)\u001b[K\n",
            "Receiving objects: 100% (176/176), 9.51 MiB | 8.78 MiB/s, done.\n",
            "Updating files: 100% (172/172), done.\n"
          ]
        }
      ]
    },
    {
      "cell_type": "code",
      "source": [
        "dataFiles = os.listdir('drive/MyDrive/Collabera/wx_data')\n",
        "len(dataFiles)"
      ],
      "metadata": {
        "id": "3yW-xDjCeI-G",
        "outputId": "d5fbea18-754f-4cbe-dd27-c6bee0a07755",
        "colab": {
          "base_uri": "https://localhost:8080/"
        }
      },
      "execution_count": null,
      "outputs": [
        {
          "output_type": "execute_result",
          "data": {
            "text/plain": [
              "167"
            ]
          },
          "metadata": {},
          "execution_count": 6
        }
      ]
    },
    {
      "cell_type": "code",
      "source": [
        "def parser(entry):\n",
        "  finalList = []\n",
        "  listEntry = []\n",
        "  currentString = ''\n",
        "  for c in entry:\n",
        "    if c=='\\t':\n",
        "      listEntry.append(currentString)\n",
        "      currentString = ''\n",
        "    else:\n",
        "      currentString+=c\n",
        "  listEntry.append(currentString)\n",
        "\n",
        "  listEntry = [int(str(i).strip()) for i in listEntry]\n",
        "  return listEntry"
      ],
      "metadata": {
        "id": "hNvXLyUWX00T"
      },
      "execution_count": null,
      "outputs": []
    },
    {
      "cell_type": "code",
      "source": [
        "stationlist = []\n",
        "datelist = []\n",
        "maxtemplist = []\n",
        "mintemplist = []\n",
        "precipitationlist = []\n",
        "\n",
        "counter = 0\n",
        "for dF in dataFiles:\n",
        "  counter+=1\n",
        "  with open('drive/MyDrive/Collabera/wx_data/'+dF,'r') as f:\n",
        "    print('------{}----'.format(counter))\n",
        "    print(dF)\n",
        "    rawData = f.read().split('\\n')[:-1]\n",
        "    parsedData = []\n",
        "    for entry in rawData:\n",
        "      try:\n",
        "        parsedData.append(parser(entry))\n",
        "      except Exception as e:\n",
        "        print(e)\n",
        "        print(entry)\n",
        "        print('---')\n",
        "    stationlist.extend([dF[:-4]]*len(parsedData))\n",
        "    datelist.extend([str(entry[0])[:-4]+'-'+str(entry[0])[4:6]+'-'+str(entry[0])[6:] for entry in parsedData])\n",
        "    maxtemplist.extend([entry[1] for entry in parsedData])\n",
        "    mintemplist.extend([entry[2] for entry in parsedData])\n",
        "    precipitationlist.extend([entry[3] for entry in parsedData])"
      ],
      "metadata": {
        "id": "IMJdZr0LQaY4"
      },
      "execution_count": null,
      "outputs": []
    },
    {
      "cell_type": "code",
      "source": [
        "len(stationlist),len(datelist),len(maxtemplist),len(mintemplist),len(precipitationlist)"
      ],
      "metadata": {
        "id": "EpIppfZJCdVl",
        "outputId": "b97ff2ef-9c3f-4add-9d90-1b0833e37ec5",
        "colab": {
          "base_uri": "https://localhost:8080/"
        }
      },
      "execution_count": null,
      "outputs": [
        {
          "output_type": "execute_result",
          "data": {
            "text/plain": [
              "(1729957, 1729957, 1729957, 1729957, 1729957)"
            ]
          },
          "metadata": {},
          "execution_count": 9
        }
      ]
    },
    {
      "cell_type": "code",
      "source": [
        "dataFrame = pd.DataFrame({\n",
        "    'Station':stationlist,\n",
        "    'Date':datelist,\n",
        "    'MaxTemp':maxtemplist,\n",
        "    'MinTemp':mintemplist,\n",
        "    'Precipitation':precipitationlist\n",
        "    })"
      ],
      "metadata": {
        "id": "zKKzT129VQXf"
      },
      "execution_count": null,
      "outputs": []
    },
    {
      "cell_type": "code",
      "source": [
        "dataFrame.head()"
      ],
      "metadata": {
        "id": "8BYWhN_JQae2"
      },
      "execution_count": null,
      "outputs": []
    },
    {
      "cell_type": "code",
      "source": [
        "a = load_dotenv('drive/MyDrive/.env')"
      ],
      "metadata": {
        "id": "9lGPDh5qVhz6"
      },
      "execution_count": null,
      "outputs": []
    },
    {
      "cell_type": "code",
      "source": [
        "DATABASE_URL = os.environ['CORTEVA_DB_URL']"
      ],
      "metadata": {
        "id": "et594qTmRBwI"
      },
      "execution_count": null,
      "outputs": []
    },
    {
      "cell_type": "code",
      "source": [
        "engine = create_engine(DATABASE_URL)\n",
        "dataFrame.to_sql(\"m_readings\", engine, index=False, if_exists='replace')"
      ],
      "metadata": {
        "id": "qSUChhDmRNJG",
        "outputId": "94491289-e7a1-432c-c23b-7ecc6df98283",
        "colab": {
          "base_uri": "https://localhost:8080/"
        }
      },
      "execution_count": null,
      "outputs": [
        {
          "output_type": "execute_result",
          "data": {
            "text/plain": [
              "957"
            ]
          },
          "metadata": {},
          "execution_count": 15
        }
      ]
    }
  ],
  "metadata": {
    "colab": {
      "toc_visible": true,
      "provenance": [],
      "include_colab_link": true
    },
    "kernelspec": {
      "display_name": "Python 3",
      "name": "python3"
    }
  },
  "nbformat": 4,
  "nbformat_minor": 0
}